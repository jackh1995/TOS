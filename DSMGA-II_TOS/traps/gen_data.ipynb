{
 "cells": [
  {
   "cell_type": "code",
   "execution_count": 1,
   "metadata": {},
   "outputs": [],
   "source": [
    "import random\n",
    "import numpy as np\n",
    "from tqdm import tqdm\n",
    "from sympy import *\n",
    "from sympy.solvers.diophantine import diophantine\n",
    "from sympy.solvers.diophantine.diophantine import diop_linear\n",
    "from sympy import symbols\n",
    "import math"
   ]
  },
  {
   "cell_type": "code",
   "execution_count": 2,
   "metadata": {},
   "outputs": [
    {
     "data": {
      "text/plain": [
       "0.6000000000000001"
      ]
     },
     "execution_count": 2,
     "metadata": {},
     "output_type": "execute_result"
    }
   ],
   "source": [
    "def trap (unitary, fHigh, fLow, trapK):\n",
    "    if unitary > trapK:\n",
    "        return 0\n",
    "    if (unitary == trapK):\n",
    "        return fHigh\n",
    "    else:\n",
    "        return fLow - unitary * fLow / (trapK-1)\n",
    "\n",
    "trap(1, 1, 1-1/5, 5)"
   ]
  },
  {
   "cell_type": "code",
   "execution_count": 3,
   "metadata": {},
   "outputs": [
    {
     "name": "stdout",
     "output_type": "stream",
     "text": [
      "(t_0, 10*t_0 + 6*t_1 - 100, -9*t_0 - 5*t_1 + 100)\n",
      "len(sol_list) = 51\n"
     ]
    },
    {
     "data": {
      "text/plain": [
       "[(10, 6, 5),\n",
       " (16, 6, 1),\n",
       " (0, 2, 15),\n",
       " (0, 14, 5),\n",
       " (4, 12, 4),\n",
       " (2, 16, 2),\n",
       " (6, 2, 11),\n",
       " (16, 0, 6),\n",
       " (5, 16, 0),\n",
       " (22, 0, 2),\n",
       " (6, 8, 6),\n",
       " (8, 4, 8),\n",
       " (21, 2, 1),\n",
       " (7, 0, 12),\n",
       " (10, 0, 10),\n",
       " (1, 0, 16),\n",
       " (8, 10, 3),\n",
       " (10, 12, 0),\n",
       " (1, 12, 6),\n",
       " (4, 0, 14),\n",
       " (0, 20, 0),\n",
       " (12, 8, 2),\n",
       " (13, 0, 8),\n",
       " (7, 6, 7),\n",
       " (9, 2, 9),\n",
       " (19, 0, 4),\n",
       " (25, 0, 0),\n",
       " (5, 10, 5),\n",
       " (0, 8, 10),\n",
       " (3, 8, 8),\n",
       " (18, 2, 3),\n",
       " (9, 8, 4),\n",
       " (11, 10, 1),\n",
       " (13, 6, 3),\n",
       " (6, 14, 1),\n",
       " (7, 12, 2),\n",
       " (3, 14, 3),\n",
       " (1, 6, 11),\n",
       " (12, 2, 7),\n",
       " (11, 4, 6),\n",
       " (4, 6, 9),\n",
       " (2, 4, 12),\n",
       " (1, 18, 1),\n",
       " (15, 2, 5),\n",
       " (17, 4, 2),\n",
       " (15, 8, 0),\n",
       " (5, 4, 10),\n",
       " (3, 2, 13),\n",
       " (2, 10, 7),\n",
       " (14, 4, 4)]"
      ]
     },
     "execution_count": 3,
     "metadata": {},
     "output_type": "execute_result"
    }
   ],
   "source": [
    "ell = 100\n",
    "n = 50\n",
    "sol_list = []\n",
    "\n",
    "x, y, z = symbols(\"x, y, z\", integer=True)\n",
    "print(diop_linear(4*x + 5*y + 6*z - ell))\n",
    "\n",
    "for t_0 in range(0, n):\n",
    "    t_1_start = math.ceil((ell - 10*t_0) / 6)\n",
    "    for t_1 in range(t_1_start, t_1_start + n):\n",
    "        if -9*t_0 - 5*t_1 + ell < 0:\n",
    "            break\n",
    "        sol_list.append((t_0, 10*t_0 + 6*t_1 - ell, -9*t_0 - 5*t_1 + ell))\n",
    "\n",
    "# 100: (t_0, 10*t_0 + 6*t_1 - 100, -9*t_0 - 5*t_1 + 100)\n",
    "# 200: (t_0, 10*t_0 + 6*t_1 - 200, -9*t_0 - 5*t_1 + 200)\n",
    "# 300: (t_0, 10*t_0 + 6*t_1 - 300, -9*t_0 - 5*t_1 + 300)\n",
    "# 400: (t_0, 10*t_0 + 6*t_1 - 400, -9*t_0 - 5*t_1 + 400)\n",
    "\n",
    "print(f'{len(sol_list) = }')\n",
    "sol_list_100 = random.sample(sol_list, n)\n",
    "sol_list_100\n",
    "# for i in range(n):\n",
    "#     s = sol_list_100[i]\n",
    "#     bb_list = [4]*s[0] + [5]*s[1] + [6]*s[2]\n",
    "#     random.shuffle(bb_list)\n",
    "#     opt = len(bb_list)\n",
    "#     print(np.array(bb_list).sum(), end=' ')\n",
    "#     # with open(f'./USal/NSize/{ell}_4_6_{i}', 'w+') as f:\n",
    "#     #     f.write(f'{opt} {len(bb_list)}\\n')\n",
    "#     #     f.write(\" \".join([str(x) for x in bb_list]))"
   ]
  },
  {
   "cell_type": "code",
   "execution_count": 10,
   "metadata": {},
   "outputs": [
    {
     "name": "stderr",
     "output_type": "stream",
     "text": [
      "100%|██████████| 50/50 [00:00<00:00, 7776.73it/s]\n"
     ]
    }
   ],
   "source": [
    "for i in tqdm(range(50)):\n",
    "    length = 100\n",
    "    remained_length = length\n",
    "    bb_list = []\n",
    "    max_bb_size = 10\n",
    "    min_bb_size = 3\n",
    "\n",
    "    while (remained_length):\n",
    "        if remained_length > max_bb_size:\n",
    "            bb_size = random.randint(min_bb_size, min(remained_length - min_bb_size, max_bb_size))\n",
    "            remained_length -= bb_size\n",
    "        else:\n",
    "            bb_size = remained_length\n",
    "            remained_length = 0\n",
    "        bb_list.append(bb_size)\n",
    "\n",
    "    opt = len(bb_list)\n",
    "    with open(f'./USal/NSize/{length}_{min_bb_size}_{max_bb_size}_{i:d}', 'w+') as f:\n",
    "        f.write(f'{opt} {len(bb_list)}\\n')\n",
    "        f.write(\" \".join([str(x) for x in bb_list]))"
   ]
  },
  {
   "cell_type": "code",
   "execution_count": 137,
   "metadata": {},
   "outputs": [
    {
     "data": {
      "text/plain": [
       "200"
      ]
     },
     "execution_count": 137,
     "metadata": {},
     "output_type": "execute_result"
    }
   ],
   "source": [
    "foo = '7 4 5 6 6 6 5 7 6 6 3 6 4 6 6 5 6 7 7 4 3 6 7 6 4 6 3 6 3 3 6 3 7 7 3 5 6 4'\n",
    "np.array(foo.split()).astype(int).sum()"
   ]
  }
 ],
 "metadata": {
  "interpreter": {
   "hash": "960e6ed259eaee5b44eb3de64476b91dbf80b8c48856b46aafe249a40eac1eb7"
  },
  "kernelspec": {
   "display_name": "Python 3.9.5 ('ml')",
   "language": "python",
   "name": "python3"
  },
  "language_info": {
   "codemirror_mode": {
    "name": "ipython",
    "version": 3
   },
   "file_extension": ".py",
   "mimetype": "text/x-python",
   "name": "python",
   "nbconvert_exporter": "python",
   "pygments_lexer": "ipython3",
   "version": "3.9.5"
  },
  "orig_nbformat": 4
 },
 "nbformat": 4,
 "nbformat_minor": 2
}
