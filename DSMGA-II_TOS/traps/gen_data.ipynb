{
 "cells": [
  {
   "cell_type": "code",
   "execution_count": 2,
   "metadata": {},
   "outputs": [],
   "source": [
    "import random\n",
    "import numpy as np\n",
    "from tqdm import tqdm"
   ]
  },
  {
   "cell_type": "code",
   "execution_count": 3,
   "metadata": {},
   "outputs": [
    {
     "data": {
      "text/plain": [
       "0.6000000000000001"
      ]
     },
     "execution_count": 3,
     "metadata": {},
     "output_type": "execute_result"
    }
   ],
   "source": [
    "def trap (unitary, fHigh, fLow, trapK):\n",
    "    if unitary > trapK:\n",
    "        return 0\n",
    "    if (unitary == trapK):\n",
    "        return fHigh\n",
    "    else:\n",
    "        return fLow - unitary * fLow / (trapK-1)\n",
    "\n",
    "trap(1, 1, 1-1/5, 5)"
   ]
  },
  {
   "cell_type": "code",
   "execution_count": 5,
   "metadata": {},
   "outputs": [
    {
     "name": "stderr",
     "output_type": "stream",
     "text": [
      "100%|██████████| 100/100 [00:00<00:00, 2846.32it/s]\n"
     ]
    }
   ],
   "source": [
    "for i in tqdm(range(100)):\n",
    "    length = 100\n",
    "    remained_length = length\n",
    "    bb_list = []\n",
    "    max_bb_size = 7\n",
    "    min_bb_size = 3\n",
    "\n",
    "    while (remained_length):\n",
    "        if remained_length > max_bb_size:\n",
    "            bb_size = random.randint(min_bb_size, min(remained_length - min_bb_size, max_bb_size))\n",
    "            remained_length -= bb_size\n",
    "        else:\n",
    "            bb_size = remained_length\n",
    "            remained_length = 0\n",
    "        bb_list.append(bb_size)\n",
    "\n",
    "    opt = len(bb_list)\n",
    "    with open(f'./USal/NSize/{length}_{min_bb_size}_{max_bb_size}_{i:d}', 'w+') as f:\n",
    "        f.write(f'{opt} {len(bb_list)}\\n')\n",
    "        f.write(\" \".join([str(x) for x in bb_list]))"
   ]
  }
 ],
 "metadata": {
  "interpreter": {
   "hash": "960e6ed259eaee5b44eb3de64476b91dbf80b8c48856b46aafe249a40eac1eb7"
  },
  "kernelspec": {
   "display_name": "Python 3.9.5 ('ml')",
   "language": "python",
   "name": "python3"
  },
  "language_info": {
   "codemirror_mode": {
    "name": "ipython",
    "version": 3
   },
   "file_extension": ".py",
   "mimetype": "text/x-python",
   "name": "python",
   "nbconvert_exporter": "python",
   "pygments_lexer": "ipython3",
   "version": "3.9.5"
  },
  "orig_nbformat": 4
 },
 "nbformat": 4,
 "nbformat_minor": 2
}
