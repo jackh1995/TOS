{
 "cells": [
  {
   "cell_type": "code",
   "execution_count": 3,
   "metadata": {},
   "outputs": [],
   "source": [
    "import pandas as pd\n",
    "import numpy as np"
   ]
  },
  {
   "cell_type": "code",
   "execution_count": 15,
   "metadata": {},
   "outputs": [
    {
     "data": {
      "text/html": [
       "<div>\n",
       "<style scoped>\n",
       "    .dataframe tbody tr th:only-of-type {\n",
       "        vertical-align: middle;\n",
       "    }\n",
       "\n",
       "    .dataframe tbody tr th {\n",
       "        vertical-align: top;\n",
       "    }\n",
       "\n",
       "    .dataframe thead th {\n",
       "        text-align: right;\n",
       "    }\n",
       "</style>\n",
       "<table border=\"1\" class=\"dataframe\">\n",
       "  <thead>\n",
       "    <tr style=\"text-align: right;\">\n",
       "      <th></th>\n",
       "      <th>pop</th>\n",
       "      <th>gen</th>\n",
       "      <th>nfe</th>\n",
       "      <th>initnfe</th>\n",
       "      <th>lsnfe</th>\n",
       "      <th>rmnfe</th>\n",
       "      <th>bmnfe</th>\n",
       "      <th>successes</th>\n",
       "    </tr>\n",
       "  </thead>\n",
       "  <tbody>\n",
       "    <tr>\n",
       "      <th>0</th>\n",
       "      <td>40.0</td>\n",
       "      <td>5.0</td>\n",
       "      <td>5004.0</td>\n",
       "      <td>40.0</td>\n",
       "      <td>4000.0</td>\n",
       "      <td>336.0</td>\n",
       "      <td>628.0</td>\n",
       "      <td>10.0</td>\n",
       "    </tr>\n",
       "    <tr>\n",
       "      <th>1</th>\n",
       "      <td>0.0</td>\n",
       "      <td>0.0</td>\n",
       "      <td>0.0</td>\n",
       "      <td>0.0</td>\n",
       "      <td>0.0</td>\n",
       "      <td>0.0</td>\n",
       "      <td>0.0</td>\n",
       "      <td>0.0</td>\n",
       "    </tr>\n",
       "  </tbody>\n",
       "</table>\n",
       "</div>"
      ],
      "text/plain": [
       "    pop  gen     nfe  initnfe   lsnfe  rmnfe  bmnfe  successes\n",
       "0  40.0  5.0  5004.0     40.0  4000.0  336.0  628.0       10.0\n",
       "1   0.0  0.0     0.0      0.0     0.0    0.0    0.0        0.0"
      ]
     },
     "execution_count": 15,
     "metadata": {},
     "output_type": "execute_result"
    }
   ],
   "source": [
    "res = []\n",
    "\n",
    "GA = 'TFF_MEAN'\n",
    "PROBLEM = 11\n",
    "for i in range(1, 10+1):\n",
    "    df = pd.read_csv(f'./out_dir/{GA}/{PROBLEM}_100_-{i}.csv', sep='\\t')\n",
    "    df = df[df['successes'] == 10]\n",
    "    res.append(df.iloc[df['nfe'].argmin(), :].values)\n",
    "\n",
    "names = ['pop', 'gen', 'nfe', 'initnfe', 'lsnfe', 'rmnfe', 'bmnfe', 'successes']\n",
    "means = np.stack(res).mean(axis=0)\n",
    "stds = np.stack(res).std(axis=0)\n",
    "\n",
    "df = pd.DataFrame([means, stds])\n",
    "df.columns = names\n",
    "df"
   ]
  },
  {
   "cell_type": "code",
   "execution_count": 11,
   "metadata": {},
   "outputs": [
    {
     "data": {
      "text/html": [
       "<div>\n",
       "<style scoped>\n",
       "    .dataframe tbody tr th:only-of-type {\n",
       "        vertical-align: middle;\n",
       "    }\n",
       "\n",
       "    .dataframe tbody tr th {\n",
       "        vertical-align: top;\n",
       "    }\n",
       "\n",
       "    .dataframe thead th {\n",
       "        text-align: right;\n",
       "    }\n",
       "</style>\n",
       "<table border=\"1\" class=\"dataframe\">\n",
       "  <thead>\n",
       "    <tr style=\"text-align: right;\">\n",
       "      <th></th>\n",
       "      <th>pop</th>\n",
       "      <th>gen</th>\n",
       "      <th>nfe</th>\n",
       "      <th>initnfe</th>\n",
       "      <th>lsnfe</th>\n",
       "      <th>rmnfe</th>\n",
       "      <th>bmnfe</th>\n",
       "      <th>successes</th>\n",
       "    </tr>\n",
       "  </thead>\n",
       "  <tbody>\n",
       "    <tr>\n",
       "      <th>0</th>\n",
       "      <td>66.0</td>\n",
       "      <td>1.700000</td>\n",
       "      <td>8034.580000</td>\n",
       "      <td>66.0</td>\n",
       "      <td>6600.0</td>\n",
       "      <td>271.320000</td>\n",
       "      <td>1097.260000</td>\n",
       "      <td>10.0</td>\n",
       "    </tr>\n",
       "    <tr>\n",
       "      <th>1</th>\n",
       "      <td>0.0</td>\n",
       "      <td>0.141421</td>\n",
       "      <td>9.063752</td>\n",
       "      <td>0.0</td>\n",
       "      <td>0.0</td>\n",
       "      <td>4.566793</td>\n",
       "      <td>6.547855</td>\n",
       "      <td>0.0</td>\n",
       "    </tr>\n",
       "  </tbody>\n",
       "</table>\n",
       "</div>"
      ],
      "text/plain": [
       "    pop       gen          nfe  initnfe   lsnfe       rmnfe        bmnfe  \\\n",
       "0  66.0  1.700000  8034.580000     66.0  6600.0  271.320000  1097.260000   \n",
       "1   0.0  0.141421     9.063752      0.0     0.0    4.566793     6.547855   \n",
       "\n",
       "   successes  \n",
       "0       10.0  \n",
       "1        0.0  "
      ]
     },
     "execution_count": 11,
     "metadata": {},
     "output_type": "execute_result"
    }
   ],
   "source": [
    "# df = df[['gen', 'nfe', 'initnfe', 'lsnfe', 'rmnfe', 'bmnfe', 'successes']]\n",
    "# df.to_csv('8_100.csv', index=False)"
   ]
  }
 ],
 "metadata": {
  "interpreter": {
   "hash": "960e6ed259eaee5b44eb3de64476b91dbf80b8c48856b46aafe249a40eac1eb7"
  },
  "kernelspec": {
   "display_name": "Python 3.9.5 ('ml')",
   "language": "python",
   "name": "python3"
  },
  "language_info": {
   "codemirror_mode": {
    "name": "ipython",
    "version": 3
   },
   "file_extension": ".py",
   "mimetype": "text/x-python",
   "name": "python",
   "nbconvert_exporter": "python",
   "pygments_lexer": "ipython3",
   "version": "3.9.5"
  },
  "orig_nbformat": 4
 },
 "nbformat": 4,
 "nbformat_minor": 2
}
