{
 "cells": [
  {
   "cell_type": "code",
   "execution_count": 1,
   "metadata": {},
   "outputs": [],
   "source": [
    "import pandas as pd\n",
    "import numpy as np"
   ]
  },
  {
   "cell_type": "code",
   "execution_count": 2,
   "metadata": {},
   "outputs": [],
   "source": [
    "res = []\n",
    "for i in range(50):\n",
    "    df = pd.read_csv(f'8_100_{i}.csv', sep='\\t')\n",
    "    df = df[df['successes'] == 10]\n",
    "    res.append(df.iloc[df['nfe'].argmin(), :].values)"
   ]
  },
  {
   "cell_type": "code",
   "execution_count": 3,
   "metadata": {},
   "outputs": [],
   "source": [
    "names = ['pop', 'gen', 'nfe', 'initnfe', 'lsnfe', 'rmnfe', 'bmnfe', 'successes']\n",
    "means = np.stack(res).mean(axis=0)\n",
    "stds = np.stack(res).std(axis=0)"
   ]
  },
  {
   "cell_type": "code",
   "execution_count": 4,
   "metadata": {},
   "outputs": [],
   "source": [
    "df = pd.DataFrame([means, stds])\n",
    "df.columns = names\n",
    "df = df[['gen', 'nfe', 'initnfe', 'lsnfe', 'rmnfe', 'bmnfe', 'successes']]\n",
    "df.to_csv('8_100.csv', index=False)"
   ]
  }
 ],
 "metadata": {
  "interpreter": {
   "hash": "960e6ed259eaee5b44eb3de64476b91dbf80b8c48856b46aafe249a40eac1eb7"
  },
  "kernelspec": {
   "display_name": "Python 3.9.5 ('ml')",
   "language": "python",
   "name": "python3"
  },
  "language_info": {
   "codemirror_mode": {
    "name": "ipython",
    "version": 3
   },
   "file_extension": ".py",
   "mimetype": "text/x-python",
   "name": "python",
   "nbconvert_exporter": "python",
   "pygments_lexer": "ipython3",
   "version": "3.9.5"
  },
  "orig_nbformat": 4
 },
 "nbformat": 4,
 "nbformat_minor": 2
}
